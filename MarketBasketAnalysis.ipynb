{
 "cells": [
  {
   "cell_type": "markdown",
   "id": "f4b22cfd",
   "metadata": {
    "papermill": {
     "duration": 0.009924,
     "end_time": "2022-07-08T17:43:21.095571",
     "exception": false,
     "start_time": "2022-07-08T17:43:21.085647",
     "status": "completed"
    },
    "tags": []
   },
   "source": [
    "## Table of Contents"
   ]
  },
  {
   "cell_type": "markdown",
   "id": "caebc227",
   "metadata": {
    "papermill": {
     "duration": 0.008077,
     "end_time": "2022-07-08T17:43:21.112240",
     "exception": false,
     "start_time": "2022-07-08T17:43:21.104163",
     "status": "completed"
    },
    "tags": []
   },
   "source": [
    "- [Introduction](#intro)\n",
    "- [Libraries](#lib)\n",
    "- [Functions & Constants](#func)\n",
    "- [Data Loading](#load)\n",
    "- [Data Wrangling](#wrang)\n",
    "- [Most Popular Items](#pop)\n",
    "- [Apriori Algorithm](#apri)\n",
    "- [Product Recommendation](#rec)"
   ]
  },
  {
   "cell_type": "markdown",
   "id": "21e35ac1",
   "metadata": {
    "papermill": {
     "duration": 0.008104,
     "end_time": "2022-07-08T17:43:21.128593",
     "exception": false,
     "start_time": "2022-07-08T17:43:21.120489",
     "status": "completed"
    },
    "tags": []
   },
   "source": [
    "## Introduction\n",
    "<a id=\"intro\" > </a>"
   ]
  },
  {
   "cell_type": "markdown",
   "id": "9e72d7b5",
   "metadata": {
    "papermill": {
     "duration": 0.008118,
     "end_time": "2022-07-08T17:43:21.144715",
     "exception": false,
     "start_time": "2022-07-08T17:43:21.136597",
     "status": "completed"
    },
    "tags": []
   },
   "source": [
    "**Association Rules Mining**<br>\n",
    "Association Rules find applications in recommender systems (where customers who purchased item A are recommended item B), product bundling, product placement etc. to name among a few.\n",
    "\n",
    "Here are 3 key metrics to consider when evaluating association rules:\n",
    "\n",
    "**support**<br>\n",
    "This is the percentage of orders that contains the item set. For example, there are 5 orders in total and {apple,egg} occurs in 3 of them, so:\n",
    "\n",
    "             support{apple,egg} = 3/5 or 60%\n",
    "\n",
    "The minimum support threshold required by apriori can be set based on knowledge of your domain. <br>\n",
    ">            support{B} = (Transactions containing {B})/(Total Transactions)\n",
    "\n",
    "**confidence**<br>\n",
    "Given two items, A and B, confidence measures the percentage of times that item B is purchased, given that item A was purchased. This is expressed as:\n",
    "\n",
    "             confidence{A->B} = support{A,B} / support{A}   \n",
    "\n",
    "Confidence values range from 0 to 1, where 0 indicates that B is never purchased when A is purchased, and 1 indicates that B is always purchased whenever A is purchased. Note that the confidence measure is directional. This means that we can also compute the percentage of times that item A is purchased, given that item B was purchased:\n",
    "\n",
    "             confidence{B->A} = support{A,B} / support{B}    \n",
    "\n",
    "For example, the percentage of times that egg is purchased, given that apple was purchased is:\n",
    "\n",
    "             confidence{apple->egg} = support{apple,egg} / support{apple}\n",
    "                                    = (3/5) / (4/5)\n",
    "                                    = 0.75 or 75%\n",
    "\n",
    "A confidence value of 0.75 implies that out of all orders that contain apple, 75% of them also contain egg. Now, we look at the confidence measure in the opposite direction (ie: egg->apple):\n",
    "\n",
    "             confidence{egg->apple} = support{apple,egg} / support{egg}\n",
    "                                    = (3/5) / (3/5)\n",
    "                                    = 1 or 100%  \n",
    "\n",
    "Here we see that all of the orders that contain egg also contain apple. But, does this mean that there is a relationship between these two items, or are they occurring together in the same orders simply by chance? To answer this question, we look at another measure which takes into account the popularity of both items.\n",
    "\n",
    "\n",
    "\n",
    "**lift**<br>\n",
    "Given two items, A and B, lift indicates whether there is a relationship between A and B, or whether the two items are occuring together in the same orders simply by chance (ie: at random). Unlike the confidence metric whose value may vary depending on direction (eg: confidence{A->B} may be different from confidence{B->A}), lift has no direction. This means that the lift{A,B} is always equal to the lift{B,A}:\n",
    "\n",
    "             lift{A,B} = lift{B,A} = support{A,B} / (support{A} * support{B})   \n",
    "\n",
    "In our example, we compute lift as follows:\n",
    "\n",
    "  lift{apple,egg} = lift{egg,apple} = support{apple,egg} / (support{apple} * support{egg})\n",
    "                  = (3/5) / (4/5 * 3/5) \n",
    "                  = 1.25    \n",
    "\n",
    "One way to understand lift is to think of the denominator as the likelihood that A and B will appear in the same order if there was no relationship between them. In the example above, if apple occurred in 80% of the orders and egg occurred in 60% of the orders, then if there was no relationship between them, we would expect both of them to show up together in the same order 48% of the time (ie: 80% * 60%). The numerator, on the other hand, represents how often apple and egg actually appear together in the same order. In this example, that is 60% of the time. Taking the numerator and dividing it by the denominator, we get to how many more times apple and egg actually appear in the same order, compared to if there was no relationship between them (ie: that they are occurring together simply at random).\n",
    "\n",
    "In summary, lift can take on the following values:\n",
    "\n",
    " * lift = 1 implies no relationship between A and B. \n",
    "   (ie: A and B occur together only by chance)\n",
    "\n",
    " * lift > 1 implies that there is a positive relationship between A and B.\n",
    "   (ie:  A and B occur together more often than random)\n",
    "\n",
    " * lift < 1 implies that there is a negative relationship between A and B.\n",
    "   (ie:  A and B occur together less often than random)\n",
    "\n",
    "In our example, apple and egg occur together 1.25 times more than random, so we conclude that there exists a positive relationship between them.\n"
   ]
  },
  {
   "cell_type": "markdown",
   "id": "02719ce8",
   "metadata": {
    "papermill": {
     "duration": 0.007795,
     "end_time": "2022-07-08T17:43:21.160710",
     "exception": false,
     "start_time": "2022-07-08T17:43:21.152915",
     "status": "completed"
    },
    "tags": []
   },
   "source": [
    "## Import Libraries\n",
    "<a id=\"lib\" > </a>"
   ]
  },
  {
   "cell_type": "code",
   "execution_count": 1,
   "id": "e545441e",
   "metadata": {
    "_cell_guid": "b1076dfc-b9ad-4769-8c92-a6c4dae69d19",
    "_uuid": "8f2839f25d086af736a60e9eeb907d3b93b6e0e5",
    "execution": {
     "iopub.execute_input": "2022-07-08T17:43:21.178760Z",
     "iopub.status.busy": "2022-07-08T17:43:21.178217Z",
     "iopub.status.idle": "2022-07-08T17:43:21.199541Z",
     "shell.execute_reply": "2022-07-08T17:43:21.198131Z"
    },
    "papermill": {
     "duration": 0.033392,
     "end_time": "2022-07-08T17:43:21.201922",
     "exception": false,
     "start_time": "2022-07-08T17:43:21.168530",
     "status": "completed"
    },
    "tags": []
   },
   "outputs": [
    {
     "name": "stdout",
     "output_type": "stream",
     "text": [
      "/kaggle/input/groceries-dataset/Groceries_dataset.csv\n"
     ]
    }
   ],
   "source": [
    "# This Python 3 environment comes with many helpful analytics libraries installed\n",
    "# It is defined by the kaggle/python Docker image: https://github.com/kaggle/docker-python\n",
    "# For example, here's several helpful packages to load\n",
    "\n",
    "import numpy as np # linear algebra\n",
    "import pandas as pd # data processing, CSV file I/O (e.g. pd.read_csv)\n",
    "\n",
    "# Input data files are available in the read-only \"../input/\" directory\n",
    "# For example, running this (by clicking run or pressing Shift+Enter) will list all files under the input directory\n",
    "\n",
    "import os\n",
    "for dirname, _, filenames in os.walk('/kaggle/input'):\n",
    "    for filename in filenames:\n",
    "        print(os.path.join(dirname, filename))\n",
    "\n",
    "# You can write up to 20GB to the current directory (/kaggle/working/) that gets preserved as output when you create a version using \"Save & Run All\" \n",
    "# You can also write temporary files to /kaggle/temp/, but they won't be saved outside of the current session"
   ]
  },
  {
   "cell_type": "code",
   "execution_count": 2,
   "id": "d47a26ad",
   "metadata": {
    "execution": {
     "iopub.execute_input": "2022-07-08T17:43:21.221032Z",
     "iopub.status.busy": "2022-07-08T17:43:21.220192Z",
     "iopub.status.idle": "2022-07-08T17:43:22.365819Z",
     "shell.execute_reply": "2022-07-08T17:43:22.364490Z"
    },
    "papermill": {
     "duration": 1.158054,
     "end_time": "2022-07-08T17:43:22.368509",
     "exception": false,
     "start_time": "2022-07-08T17:43:21.210455",
     "status": "completed"
    },
    "tags": []
   },
   "outputs": [],
   "source": [
    "import matplotlib\n",
    "import matplotlib.pyplot as plt\n",
    "import seaborn as sns\n",
    "import squarify\n",
    "from mlxtend.frequent_patterns import association_rules, apriori, fpgrowth"
   ]
  },
  {
   "cell_type": "markdown",
   "id": "d7fef2b1",
   "metadata": {
    "papermill": {
     "duration": 0.008267,
     "end_time": "2022-07-08T17:43:22.385913",
     "exception": false,
     "start_time": "2022-07-08T17:43:22.377646",
     "status": "completed"
    },
    "tags": []
   },
   "source": [
    "## Functions and Constants\n",
    "<a id=\"func\" > </a>"
   ]
  },
  {
   "cell_type": "markdown",
   "id": "c831219e",
   "metadata": {
    "papermill": {
     "duration": 0.00776,
     "end_time": "2022-07-08T17:43:22.402027",
     "exception": false,
     "start_time": "2022-07-08T17:43:22.394267",
     "status": "completed"
    },
    "tags": []
   },
   "source": [
    "**Constants**"
   ]
  },
  {
   "cell_type": "code",
   "execution_count": 3,
   "id": "6e284578",
   "metadata": {
    "execution": {
     "iopub.execute_input": "2022-07-08T17:43:22.421533Z",
     "iopub.status.busy": "2022-07-08T17:43:22.421164Z",
     "iopub.status.idle": "2022-07-08T17:43:22.426111Z",
     "shell.execute_reply": "2022-07-08T17:43:22.425002Z"
    },
    "papermill": {
     "duration": 0.017721,
     "end_time": "2022-07-08T17:43:22.428220",
     "exception": false,
     "start_time": "2022-07-08T17:43:22.410499",
     "status": "completed"
    },
    "tags": []
   },
   "outputs": [],
   "source": [
    "SINGLE_ITEM_ONLY = False\n",
    "MIN_ITEMS_HEATMAP=1\n",
    "\n",
    "if SINGLE_ITEM_ONLY:\n",
    "    MIN_ITEMS_HEATMAP=1"
   ]
  },
  {
   "cell_type": "markdown",
   "id": "db1543aa",
   "metadata": {
    "papermill": {
     "duration": 0.008094,
     "end_time": "2022-07-08T17:43:22.444897",
     "exception": false,
     "start_time": "2022-07-08T17:43:22.436803",
     "status": "completed"
    },
    "tags": []
   },
   "source": [
    "**Functions**"
   ]
  },
  {
   "cell_type": "code",
   "execution_count": 4,
   "id": "5a9a1331",
   "metadata": {
    "execution": {
     "iopub.execute_input": "2022-07-08T17:43:22.463393Z",
     "iopub.status.busy": "2022-07-08T17:43:22.462691Z",
     "iopub.status.idle": "2022-07-08T17:43:22.475428Z",
     "shell.execute_reply": "2022-07-08T17:43:22.474457Z"
    },
    "papermill": {
     "duration": 0.024356,
     "end_time": "2022-07-08T17:43:22.477645",
     "exception": false,
     "start_time": "2022-07-08T17:43:22.453289",
     "status": "completed"
    },
    "tags": []
   },
   "outputs": [],
   "source": [
    "#Used in Data Wrangling to make dataframe compatible with apriori()\n",
    "def to_boolean(x):\n",
    "    if x == 0:\n",
    "        return False\n",
    "    elif x > 0:\n",
    "        return True\n",
    "    \n",
    "    \n",
    "# To create metrics Support, Confidence, Lift for Antecedents and Consequent items\n",
    "def apriori_df(dataframe_support, metric_name, threshold):\n",
    "    apriori_rules = association_rules(dataframe_support, metric = metric_name, min_threshold = threshold)\n",
    "\n",
    "    apriori_rules['antecedents_items'] = apriori_rules['antecedents'].apply(lambda x:len(x) )\n",
    "    apriori_rules['consequents_items'] = apriori_rules['consequents'].apply(lambda x:len(x) )\n",
    "\n",
    "    apriori_rules['antecedents_'] = apriori_rules['antecedents'].apply(lambda a: ','.join(list(a)))\n",
    "    apriori_rules['consequents_'] = apriori_rules['consequents'].apply(lambda a: ','.join(list(a)))\n",
    "\n",
    "    apriori_rules.sort_values('confidence', ascending = False, inplace = True)\n",
    "\n",
    "    if SINGLE_ITEM_ONLY:\n",
    "        apriori_rules= apriori_rules[(apriori_rules['antecedents_items'] ==1) & (apriori_rules['consequents_items'] ==1)]\n",
    "    return apriori_rules\n",
    "\n",
    "\n",
    "# To make a recommendation based on association rules\n",
    "def recommend_product(dataframe_apriori, product, num_of_products):\n",
    "    dataframe_apriori.sort_values('confidence', ascending = False, inplace = True)\n",
    "    recommendation_list = []  \n",
    "    for index, row in dataframe_apriori.iterrows():\n",
    "        if product in row[\"antecedents_\"]:\n",
    "            recommendation_list.append(row[\"consequents_\"])\n",
    "    return(recommendation_list[0:num_of_products])\n"
   ]
  },
  {
   "cell_type": "markdown",
   "id": "548b6685",
   "metadata": {
    "papermill": {
     "duration": 0.007714,
     "end_time": "2022-07-08T17:43:22.493493",
     "exception": false,
     "start_time": "2022-07-08T17:43:22.485779",
     "status": "completed"
    },
    "tags": []
   },
   "source": [
    "## Load Data\n",
    "<a id=\"load\" > </a>"
   ]
  },
  {
   "cell_type": "code",
   "execution_count": 5,
   "id": "b8854e9a",
   "metadata": {
    "execution": {
     "iopub.execute_input": "2022-07-08T17:43:22.511338Z",
     "iopub.status.busy": "2022-07-08T17:43:22.510333Z",
     "iopub.status.idle": "2022-07-08T17:43:22.610910Z",
     "shell.execute_reply": "2022-07-08T17:43:22.609979Z"
    },
    "papermill": {
     "duration": 0.111674,
     "end_time": "2022-07-08T17:43:22.613035",
     "exception": false,
     "start_time": "2022-07-08T17:43:22.501361",
     "status": "completed"
    },
    "tags": []
   },
   "outputs": [
    {
     "data": {
      "text/html": [
       "<div>\n",
       "<style scoped>\n",
       "    .dataframe tbody tr th:only-of-type {\n",
       "        vertical-align: middle;\n",
       "    }\n",
       "\n",
       "    .dataframe tbody tr th {\n",
       "        vertical-align: top;\n",
       "    }\n",
       "\n",
       "    .dataframe thead th {\n",
       "        text-align: right;\n",
       "    }\n",
       "</style>\n",
       "<table border=\"1\" class=\"dataframe\">\n",
       "  <thead>\n",
       "    <tr style=\"text-align: right;\">\n",
       "      <th></th>\n",
       "      <th>Member_number</th>\n",
       "      <th>Date</th>\n",
       "      <th>itemDescription</th>\n",
       "    </tr>\n",
       "  </thead>\n",
       "  <tbody>\n",
       "    <tr>\n",
       "      <th>0</th>\n",
       "      <td>1808</td>\n",
       "      <td>21-07-2015</td>\n",
       "      <td>tropical fruit</td>\n",
       "    </tr>\n",
       "    <tr>\n",
       "      <th>1</th>\n",
       "      <td>2552</td>\n",
       "      <td>05-01-2015</td>\n",
       "      <td>whole milk</td>\n",
       "    </tr>\n",
       "    <tr>\n",
       "      <th>2</th>\n",
       "      <td>2300</td>\n",
       "      <td>19-09-2015</td>\n",
       "      <td>pip fruit</td>\n",
       "    </tr>\n",
       "    <tr>\n",
       "      <th>3</th>\n",
       "      <td>1187</td>\n",
       "      <td>12-12-2015</td>\n",
       "      <td>other vegetables</td>\n",
       "    </tr>\n",
       "    <tr>\n",
       "      <th>4</th>\n",
       "      <td>3037</td>\n",
       "      <td>01-02-2015</td>\n",
       "      <td>whole milk</td>\n",
       "    </tr>\n",
       "  </tbody>\n",
       "</table>\n",
       "</div>"
      ],
      "text/plain": [
       "   Member_number        Date   itemDescription\n",
       "0           1808  21-07-2015    tropical fruit\n",
       "1           2552  05-01-2015        whole milk\n",
       "2           2300  19-09-2015         pip fruit\n",
       "3           1187  12-12-2015  other vegetables\n",
       "4           3037  01-02-2015        whole milk"
      ]
     },
     "execution_count": 5,
     "metadata": {},
     "output_type": "execute_result"
    }
   ],
   "source": [
    "df= pd.read_csv(\"../input/groceries-dataset/Groceries_dataset.csv\")\n",
    "df.head()"
   ]
  },
  {
   "cell_type": "markdown",
   "id": "4939d777",
   "metadata": {
    "papermill": {
     "duration": 0.008565,
     "end_time": "2022-07-08T17:43:22.630204",
     "exception": false,
     "start_time": "2022-07-08T17:43:22.621639",
     "status": "completed"
    },
    "tags": []
   },
   "source": [
    "## Data Description"
   ]
  },
  {
   "cell_type": "code",
   "execution_count": 6,
   "id": "f52341eb",
   "metadata": {
    "execution": {
     "iopub.execute_input": "2022-07-08T17:43:22.649341Z",
     "iopub.status.busy": "2022-07-08T17:43:22.648317Z",
     "iopub.status.idle": "2022-07-08T17:43:22.675673Z",
     "shell.execute_reply": "2022-07-08T17:43:22.674615Z"
    },
    "papermill": {
     "duration": 0.039988,
     "end_time": "2022-07-08T17:43:22.678420",
     "exception": false,
     "start_time": "2022-07-08T17:43:22.638432",
     "status": "completed"
    },
    "tags": []
   },
   "outputs": [],
   "source": [
    "df.dtypes\n",
    "df[\"Date\"]=  pd.to_datetime(df['Date'])\n",
    "\n",
    "#Let us prune the dataset\n",
    "df= df[df[\"Date\"] >= \"2015-01-01\"]"
   ]
  },
  {
   "cell_type": "markdown",
   "id": "0311a170",
   "metadata": {
    "papermill": {
     "duration": 0.008476,
     "end_time": "2022-07-08T17:43:22.695902",
     "exception": false,
     "start_time": "2022-07-08T17:43:22.687426",
     "status": "completed"
    },
    "tags": []
   },
   "source": [
    "#### Check for NULL Values"
   ]
  },
  {
   "cell_type": "code",
   "execution_count": 7,
   "id": "9f5ab93c",
   "metadata": {
    "execution": {
     "iopub.execute_input": "2022-07-08T17:43:22.715263Z",
     "iopub.status.busy": "2022-07-08T17:43:22.714143Z",
     "iopub.status.idle": "2022-07-08T17:43:22.725936Z",
     "shell.execute_reply": "2022-07-08T17:43:22.724782Z"
    },
    "papermill": {
     "duration": 0.023984,
     "end_time": "2022-07-08T17:43:22.728308",
     "exception": false,
     "start_time": "2022-07-08T17:43:22.704324",
     "status": "completed"
    },
    "tags": []
   },
   "outputs": [
    {
     "data": {
      "text/plain": [
       "Member_number      0\n",
       "Date               0\n",
       "itemDescription    0\n",
       "dtype: int64"
      ]
     },
     "execution_count": 7,
     "metadata": {},
     "output_type": "execute_result"
    }
   ],
   "source": [
    "df.isna().sum()"
   ]
  },
  {
   "cell_type": "code",
   "execution_count": 8,
   "id": "b85cbbb1",
   "metadata": {
    "execution": {
     "iopub.execute_input": "2022-07-08T17:43:22.746894Z",
     "iopub.status.busy": "2022-07-08T17:43:22.746584Z",
     "iopub.status.idle": "2022-07-08T17:43:22.753052Z",
     "shell.execute_reply": "2022-07-08T17:43:22.751937Z"
    },
    "papermill": {
     "duration": 0.019236,
     "end_time": "2022-07-08T17:43:22.756191",
     "exception": false,
     "start_time": "2022-07-08T17:43:22.736955",
     "status": "completed"
    },
    "tags": []
   },
   "outputs": [
    {
     "data": {
      "text/plain": [
       "20488"
      ]
     },
     "execution_count": 8,
     "metadata": {},
     "output_type": "execute_result"
    }
   ],
   "source": [
    "#Total number of observation points\n",
    "len(df)"
   ]
  },
  {
   "cell_type": "code",
   "execution_count": 9,
   "id": "cb7ad263",
   "metadata": {
    "execution": {
     "iopub.execute_input": "2022-07-08T17:43:22.775690Z",
     "iopub.status.busy": "2022-07-08T17:43:22.774664Z",
     "iopub.status.idle": "2022-07-08T17:43:22.784061Z",
     "shell.execute_reply": "2022-07-08T17:43:22.782682Z"
    },
    "papermill": {
     "duration": 0.02135,
     "end_time": "2022-07-08T17:43:22.786366",
     "exception": false,
     "start_time": "2022-07-08T17:43:22.765016",
     "status": "completed"
    },
    "tags": []
   },
   "outputs": [
    {
     "name": "stdout",
     "output_type": "stream",
     "text": [
      "164\n",
      "3314\n"
     ]
    }
   ],
   "source": [
    "# How many unique Items and Customers are there in the dataset\n",
    "print(df[\"itemDescription\"].nunique())\n",
    "print(df[\"Member_number\"].nunique())"
   ]
  },
  {
   "cell_type": "markdown",
   "id": "6d72bd6a",
   "metadata": {
    "papermill": {
     "duration": 0.008427,
     "end_time": "2022-07-08T17:43:22.804041",
     "exception": false,
     "start_time": "2022-07-08T17:43:22.795614",
     "status": "completed"
    },
    "tags": []
   },
   "source": [
    "We can remove some of the unnecessary items from our analysis that do not contribute any value, like ShoppingBags. But right now, let us take all the items in the dataset."
   ]
  },
  {
   "cell_type": "markdown",
   "id": "fdb00603",
   "metadata": {
    "papermill": {
     "duration": 0.008574,
     "end_time": "2022-07-08T17:43:22.821514",
     "exception": false,
     "start_time": "2022-07-08T17:43:22.812940",
     "status": "completed"
    },
    "tags": []
   },
   "source": [
    "## Data Wrangling: Convert to apriori() compatible format\n",
    "<a id=\"wrang\" > </a>"
   ]
  },
  {
   "cell_type": "markdown",
   "id": "19aeb305",
   "metadata": {
    "papermill": {
     "duration": 0.008409,
     "end_time": "2022-07-08T17:43:22.839037",
     "exception": false,
     "start_time": "2022-07-08T17:43:22.830628",
     "status": "completed"
    },
    "tags": []
   },
   "source": [
    "We will use simple unstacking to convert our data into apriori algorithm compatible form. The algorithm expects the data in Boolean form. Binary form is now deprecated.<br>\n",
    "If our data is in the form of lists (e.g., basket1: [apple, banana], basket2: [tea, mango, candy]), then we can also use TransactionEncoder to transform the data into this format.<br>\n",
    "Assumption Alert: We are assuming that each Member on a given Date has 1 Basket only"
   ]
  },
  {
   "cell_type": "code",
   "execution_count": 10,
   "id": "542e34b1",
   "metadata": {
    "execution": {
     "iopub.execute_input": "2022-07-08T17:43:22.858794Z",
     "iopub.status.busy": "2022-07-08T17:43:22.858138Z",
     "iopub.status.idle": "2022-07-08T17:43:22.936588Z",
     "shell.execute_reply": "2022-07-08T17:43:22.935433Z"
    },
    "papermill": {
     "duration": 0.09138,
     "end_time": "2022-07-08T17:43:22.939421",
     "exception": false,
     "start_time": "2022-07-08T17:43:22.848041",
     "status": "completed"
    },
    "tags": []
   },
   "outputs": [
    {
     "data": {
      "text/html": [
       "<div>\n",
       "<style scoped>\n",
       "    .dataframe tbody tr th:only-of-type {\n",
       "        vertical-align: middle;\n",
       "    }\n",
       "\n",
       "    .dataframe tbody tr th {\n",
       "        vertical-align: top;\n",
       "    }\n",
       "\n",
       "    .dataframe thead th {\n",
       "        text-align: right;\n",
       "    }\n",
       "</style>\n",
       "<table border=\"1\" class=\"dataframe\">\n",
       "  <thead>\n",
       "    <tr style=\"text-align: right;\">\n",
       "      <th></th>\n",
       "      <th>itemDescription</th>\n",
       "      <th>Instant food products</th>\n",
       "      <th>UHT-milk</th>\n",
       "      <th>abrasive cleaner</th>\n",
       "      <th>artif. sweetener</th>\n",
       "      <th>baby cosmetics</th>\n",
       "      <th>bags</th>\n",
       "      <th>baking powder</th>\n",
       "      <th>bathroom cleaner</th>\n",
       "      <th>beef</th>\n",
       "      <th>berries</th>\n",
       "      <th>...</th>\n",
       "      <th>turkey</th>\n",
       "      <th>vinegar</th>\n",
       "      <th>waffles</th>\n",
       "      <th>whipped/sour cream</th>\n",
       "      <th>whisky</th>\n",
       "      <th>white bread</th>\n",
       "      <th>white wine</th>\n",
       "      <th>whole milk</th>\n",
       "      <th>yogurt</th>\n",
       "      <th>zwieback</th>\n",
       "    </tr>\n",
       "    <tr>\n",
       "      <th>Member_number</th>\n",
       "      <th>Date</th>\n",
       "      <th></th>\n",
       "      <th></th>\n",
       "      <th></th>\n",
       "      <th></th>\n",
       "      <th></th>\n",
       "      <th></th>\n",
       "      <th></th>\n",
       "      <th></th>\n",
       "      <th></th>\n",
       "      <th></th>\n",
       "      <th></th>\n",
       "      <th></th>\n",
       "      <th></th>\n",
       "      <th></th>\n",
       "      <th></th>\n",
       "      <th></th>\n",
       "      <th></th>\n",
       "      <th></th>\n",
       "      <th></th>\n",
       "      <th></th>\n",
       "      <th></th>\n",
       "    </tr>\n",
       "  </thead>\n",
       "  <tbody>\n",
       "    <tr>\n",
       "      <th rowspan=\"4\" valign=\"top\">1000</th>\n",
       "      <th>2015-03-15</th>\n",
       "      <td>0.0</td>\n",
       "      <td>0.0</td>\n",
       "      <td>0.0</td>\n",
       "      <td>0.0</td>\n",
       "      <td>0.0</td>\n",
       "      <td>0.0</td>\n",
       "      <td>0.0</td>\n",
       "      <td>0.0</td>\n",
       "      <td>0.0</td>\n",
       "      <td>0.0</td>\n",
       "      <td>...</td>\n",
       "      <td>0.0</td>\n",
       "      <td>0.0</td>\n",
       "      <td>0.0</td>\n",
       "      <td>0.0</td>\n",
       "      <td>0.0</td>\n",
       "      <td>0.0</td>\n",
       "      <td>0.0</td>\n",
       "      <td>1.0</td>\n",
       "      <td>1.0</td>\n",
       "      <td>0.0</td>\n",
       "    </tr>\n",
       "    <tr>\n",
       "      <th>2015-05-27</th>\n",
       "      <td>0.0</td>\n",
       "      <td>0.0</td>\n",
       "      <td>0.0</td>\n",
       "      <td>0.0</td>\n",
       "      <td>0.0</td>\n",
       "      <td>0.0</td>\n",
       "      <td>0.0</td>\n",
       "      <td>0.0</td>\n",
       "      <td>0.0</td>\n",
       "      <td>0.0</td>\n",
       "      <td>...</td>\n",
       "      <td>0.0</td>\n",
       "      <td>0.0</td>\n",
       "      <td>0.0</td>\n",
       "      <td>0.0</td>\n",
       "      <td>0.0</td>\n",
       "      <td>0.0</td>\n",
       "      <td>0.0</td>\n",
       "      <td>0.0</td>\n",
       "      <td>0.0</td>\n",
       "      <td>0.0</td>\n",
       "    </tr>\n",
       "    <tr>\n",
       "      <th>2015-07-24</th>\n",
       "      <td>0.0</td>\n",
       "      <td>0.0</td>\n",
       "      <td>0.0</td>\n",
       "      <td>0.0</td>\n",
       "      <td>0.0</td>\n",
       "      <td>0.0</td>\n",
       "      <td>0.0</td>\n",
       "      <td>0.0</td>\n",
       "      <td>0.0</td>\n",
       "      <td>0.0</td>\n",
       "      <td>...</td>\n",
       "      <td>0.0</td>\n",
       "      <td>0.0</td>\n",
       "      <td>0.0</td>\n",
       "      <td>0.0</td>\n",
       "      <td>0.0</td>\n",
       "      <td>0.0</td>\n",
       "      <td>0.0</td>\n",
       "      <td>0.0</td>\n",
       "      <td>0.0</td>\n",
       "      <td>0.0</td>\n",
       "    </tr>\n",
       "    <tr>\n",
       "      <th>2015-11-25</th>\n",
       "      <td>0.0</td>\n",
       "      <td>0.0</td>\n",
       "      <td>0.0</td>\n",
       "      <td>0.0</td>\n",
       "      <td>0.0</td>\n",
       "      <td>0.0</td>\n",
       "      <td>0.0</td>\n",
       "      <td>0.0</td>\n",
       "      <td>0.0</td>\n",
       "      <td>0.0</td>\n",
       "      <td>...</td>\n",
       "      <td>0.0</td>\n",
       "      <td>0.0</td>\n",
       "      <td>0.0</td>\n",
       "      <td>0.0</td>\n",
       "      <td>0.0</td>\n",
       "      <td>0.0</td>\n",
       "      <td>0.0</td>\n",
       "      <td>0.0</td>\n",
       "      <td>0.0</td>\n",
       "      <td>0.0</td>\n",
       "    </tr>\n",
       "    <tr>\n",
       "      <th>1001</th>\n",
       "      <th>2015-01-20</th>\n",
       "      <td>0.0</td>\n",
       "      <td>0.0</td>\n",
       "      <td>0.0</td>\n",
       "      <td>0.0</td>\n",
       "      <td>0.0</td>\n",
       "      <td>0.0</td>\n",
       "      <td>0.0</td>\n",
       "      <td>0.0</td>\n",
       "      <td>0.0</td>\n",
       "      <td>0.0</td>\n",
       "      <td>...</td>\n",
       "      <td>0.0</td>\n",
       "      <td>0.0</td>\n",
       "      <td>0.0</td>\n",
       "      <td>1.0</td>\n",
       "      <td>0.0</td>\n",
       "      <td>0.0</td>\n",
       "      <td>0.0</td>\n",
       "      <td>0.0</td>\n",
       "      <td>0.0</td>\n",
       "      <td>0.0</td>\n",
       "    </tr>\n",
       "  </tbody>\n",
       "</table>\n",
       "<p>5 rows × 164 columns</p>\n",
       "</div>"
      ],
      "text/plain": [
       "itemDescription           Instant food products  UHT-milk  abrasive cleaner  \\\n",
       "Member_number Date                                                            \n",
       "1000          2015-03-15                    0.0       0.0               0.0   \n",
       "              2015-05-27                    0.0       0.0               0.0   \n",
       "              2015-07-24                    0.0       0.0               0.0   \n",
       "              2015-11-25                    0.0       0.0               0.0   \n",
       "1001          2015-01-20                    0.0       0.0               0.0   \n",
       "\n",
       "itemDescription           artif. sweetener  baby cosmetics  bags  \\\n",
       "Member_number Date                                                 \n",
       "1000          2015-03-15               0.0             0.0   0.0   \n",
       "              2015-05-27               0.0             0.0   0.0   \n",
       "              2015-07-24               0.0             0.0   0.0   \n",
       "              2015-11-25               0.0             0.0   0.0   \n",
       "1001          2015-01-20               0.0             0.0   0.0   \n",
       "\n",
       "itemDescription           baking powder  bathroom cleaner  beef  berries  ...  \\\n",
       "Member_number Date                                                        ...   \n",
       "1000          2015-03-15            0.0               0.0   0.0      0.0  ...   \n",
       "              2015-05-27            0.0               0.0   0.0      0.0  ...   \n",
       "              2015-07-24            0.0               0.0   0.0      0.0  ...   \n",
       "              2015-11-25            0.0               0.0   0.0      0.0  ...   \n",
       "1001          2015-01-20            0.0               0.0   0.0      0.0  ...   \n",
       "\n",
       "itemDescription           turkey  vinegar  waffles  whipped/sour cream  \\\n",
       "Member_number Date                                                       \n",
       "1000          2015-03-15     0.0      0.0      0.0                 0.0   \n",
       "              2015-05-27     0.0      0.0      0.0                 0.0   \n",
       "              2015-07-24     0.0      0.0      0.0                 0.0   \n",
       "              2015-11-25     0.0      0.0      0.0                 0.0   \n",
       "1001          2015-01-20     0.0      0.0      0.0                 1.0   \n",
       "\n",
       "itemDescription           whisky  white bread  white wine  whole milk  yogurt  \\\n",
       "Member_number Date                                                              \n",
       "1000          2015-03-15     0.0          0.0         0.0         1.0     1.0   \n",
       "              2015-05-27     0.0          0.0         0.0         0.0     0.0   \n",
       "              2015-07-24     0.0          0.0         0.0         0.0     0.0   \n",
       "              2015-11-25     0.0          0.0         0.0         0.0     0.0   \n",
       "1001          2015-01-20     0.0          0.0         0.0         0.0     0.0   \n",
       "\n",
       "itemDescription           zwieback  \n",
       "Member_number Date                  \n",
       "1000          2015-03-15       0.0  \n",
       "              2015-05-27       0.0  \n",
       "              2015-07-24       0.0  \n",
       "              2015-11-25       0.0  \n",
       "1001          2015-01-20       0.0  \n",
       "\n",
       "[5 rows x 164 columns]"
      ]
     },
     "execution_count": 10,
     "metadata": {},
     "output_type": "execute_result"
    }
   ],
   "source": [
    "basket = df.groupby([\"Member_number\",'Date', 'itemDescription'])['itemDescription'].count().unstack().fillna(0)\n",
    "basket.head()"
   ]
  },
  {
   "cell_type": "code",
   "execution_count": 11,
   "id": "fc224bb8",
   "metadata": {
    "execution": {
     "iopub.execute_input": "2022-07-08T17:43:22.960893Z",
     "iopub.status.busy": "2022-07-08T17:43:22.960538Z",
     "iopub.status.idle": "2022-07-08T17:43:23.415501Z",
     "shell.execute_reply": "2022-07-08T17:43:23.414477Z"
    },
    "papermill": {
     "duration": 0.468098,
     "end_time": "2022-07-08T17:43:23.417729",
     "exception": false,
     "start_time": "2022-07-08T17:43:22.949631",
     "status": "completed"
    },
    "tags": []
   },
   "outputs": [
    {
     "data": {
      "text/html": [
       "<div>\n",
       "<style scoped>\n",
       "    .dataframe tbody tr th:only-of-type {\n",
       "        vertical-align: middle;\n",
       "    }\n",
       "\n",
       "    .dataframe tbody tr th {\n",
       "        vertical-align: top;\n",
       "    }\n",
       "\n",
       "    .dataframe thead th {\n",
       "        text-align: right;\n",
       "    }\n",
       "</style>\n",
       "<table border=\"1\" class=\"dataframe\">\n",
       "  <thead>\n",
       "    <tr style=\"text-align: right;\">\n",
       "      <th></th>\n",
       "      <th>itemDescription</th>\n",
       "      <th>Instant food products</th>\n",
       "      <th>UHT-milk</th>\n",
       "      <th>abrasive cleaner</th>\n",
       "      <th>artif. sweetener</th>\n",
       "      <th>baby cosmetics</th>\n",
       "      <th>bags</th>\n",
       "      <th>baking powder</th>\n",
       "      <th>bathroom cleaner</th>\n",
       "      <th>beef</th>\n",
       "      <th>berries</th>\n",
       "      <th>...</th>\n",
       "      <th>turkey</th>\n",
       "      <th>vinegar</th>\n",
       "      <th>waffles</th>\n",
       "      <th>whipped/sour cream</th>\n",
       "      <th>whisky</th>\n",
       "      <th>white bread</th>\n",
       "      <th>white wine</th>\n",
       "      <th>whole milk</th>\n",
       "      <th>yogurt</th>\n",
       "      <th>zwieback</th>\n",
       "    </tr>\n",
       "    <tr>\n",
       "      <th>Member_number</th>\n",
       "      <th>Date</th>\n",
       "      <th></th>\n",
       "      <th></th>\n",
       "      <th></th>\n",
       "      <th></th>\n",
       "      <th></th>\n",
       "      <th></th>\n",
       "      <th></th>\n",
       "      <th></th>\n",
       "      <th></th>\n",
       "      <th></th>\n",
       "      <th></th>\n",
       "      <th></th>\n",
       "      <th></th>\n",
       "      <th></th>\n",
       "      <th></th>\n",
       "      <th></th>\n",
       "      <th></th>\n",
       "      <th></th>\n",
       "      <th></th>\n",
       "      <th></th>\n",
       "      <th></th>\n",
       "    </tr>\n",
       "  </thead>\n",
       "  <tbody>\n",
       "    <tr>\n",
       "      <th rowspan=\"4\" valign=\"top\">1000</th>\n",
       "      <th>2015-03-15</th>\n",
       "      <td>False</td>\n",
       "      <td>False</td>\n",
       "      <td>False</td>\n",
       "      <td>False</td>\n",
       "      <td>False</td>\n",
       "      <td>False</td>\n",
       "      <td>False</td>\n",
       "      <td>False</td>\n",
       "      <td>False</td>\n",
       "      <td>False</td>\n",
       "      <td>...</td>\n",
       "      <td>False</td>\n",
       "      <td>False</td>\n",
       "      <td>False</td>\n",
       "      <td>False</td>\n",
       "      <td>False</td>\n",
       "      <td>False</td>\n",
       "      <td>False</td>\n",
       "      <td>True</td>\n",
       "      <td>True</td>\n",
       "      <td>False</td>\n",
       "    </tr>\n",
       "    <tr>\n",
       "      <th>2015-05-27</th>\n",
       "      <td>False</td>\n",
       "      <td>False</td>\n",
       "      <td>False</td>\n",
       "      <td>False</td>\n",
       "      <td>False</td>\n",
       "      <td>False</td>\n",
       "      <td>False</td>\n",
       "      <td>False</td>\n",
       "      <td>False</td>\n",
       "      <td>False</td>\n",
       "      <td>...</td>\n",
       "      <td>False</td>\n",
       "      <td>False</td>\n",
       "      <td>False</td>\n",
       "      <td>False</td>\n",
       "      <td>False</td>\n",
       "      <td>False</td>\n",
       "      <td>False</td>\n",
       "      <td>False</td>\n",
       "      <td>False</td>\n",
       "      <td>False</td>\n",
       "    </tr>\n",
       "    <tr>\n",
       "      <th>2015-07-24</th>\n",
       "      <td>False</td>\n",
       "      <td>False</td>\n",
       "      <td>False</td>\n",
       "      <td>False</td>\n",
       "      <td>False</td>\n",
       "      <td>False</td>\n",
       "      <td>False</td>\n",
       "      <td>False</td>\n",
       "      <td>False</td>\n",
       "      <td>False</td>\n",
       "      <td>...</td>\n",
       "      <td>False</td>\n",
       "      <td>False</td>\n",
       "      <td>False</td>\n",
       "      <td>False</td>\n",
       "      <td>False</td>\n",
       "      <td>False</td>\n",
       "      <td>False</td>\n",
       "      <td>False</td>\n",
       "      <td>False</td>\n",
       "      <td>False</td>\n",
       "    </tr>\n",
       "    <tr>\n",
       "      <th>2015-11-25</th>\n",
       "      <td>False</td>\n",
       "      <td>False</td>\n",
       "      <td>False</td>\n",
       "      <td>False</td>\n",
       "      <td>False</td>\n",
       "      <td>False</td>\n",
       "      <td>False</td>\n",
       "      <td>False</td>\n",
       "      <td>False</td>\n",
       "      <td>False</td>\n",
       "      <td>...</td>\n",
       "      <td>False</td>\n",
       "      <td>False</td>\n",
       "      <td>False</td>\n",
       "      <td>False</td>\n",
       "      <td>False</td>\n",
       "      <td>False</td>\n",
       "      <td>False</td>\n",
       "      <td>False</td>\n",
       "      <td>False</td>\n",
       "      <td>False</td>\n",
       "    </tr>\n",
       "    <tr>\n",
       "      <th>1001</th>\n",
       "      <th>2015-01-20</th>\n",
       "      <td>False</td>\n",
       "      <td>False</td>\n",
       "      <td>False</td>\n",
       "      <td>False</td>\n",
       "      <td>False</td>\n",
       "      <td>False</td>\n",
       "      <td>False</td>\n",
       "      <td>False</td>\n",
       "      <td>False</td>\n",
       "      <td>False</td>\n",
       "      <td>...</td>\n",
       "      <td>False</td>\n",
       "      <td>False</td>\n",
       "      <td>False</td>\n",
       "      <td>True</td>\n",
       "      <td>False</td>\n",
       "      <td>False</td>\n",
       "      <td>False</td>\n",
       "      <td>False</td>\n",
       "      <td>False</td>\n",
       "      <td>False</td>\n",
       "    </tr>\n",
       "  </tbody>\n",
       "</table>\n",
       "<p>5 rows × 164 columns</p>\n",
       "</div>"
      ],
      "text/plain": [
       "itemDescription           Instant food products  UHT-milk  abrasive cleaner  \\\n",
       "Member_number Date                                                            \n",
       "1000          2015-03-15                  False     False             False   \n",
       "              2015-05-27                  False     False             False   \n",
       "              2015-07-24                  False     False             False   \n",
       "              2015-11-25                  False     False             False   \n",
       "1001          2015-01-20                  False     False             False   \n",
       "\n",
       "itemDescription           artif. sweetener  baby cosmetics   bags  \\\n",
       "Member_number Date                                                  \n",
       "1000          2015-03-15             False           False  False   \n",
       "              2015-05-27             False           False  False   \n",
       "              2015-07-24             False           False  False   \n",
       "              2015-11-25             False           False  False   \n",
       "1001          2015-01-20             False           False  False   \n",
       "\n",
       "itemDescription           baking powder  bathroom cleaner   beef  berries  \\\n",
       "Member_number Date                                                          \n",
       "1000          2015-03-15          False             False  False    False   \n",
       "              2015-05-27          False             False  False    False   \n",
       "              2015-07-24          False             False  False    False   \n",
       "              2015-11-25          False             False  False    False   \n",
       "1001          2015-01-20          False             False  False    False   \n",
       "\n",
       "itemDescription           ...  turkey  vinegar  waffles  whipped/sour cream  \\\n",
       "Member_number Date        ...                                                 \n",
       "1000          2015-03-15  ...   False    False    False               False   \n",
       "              2015-05-27  ...   False    False    False               False   \n",
       "              2015-07-24  ...   False    False    False               False   \n",
       "              2015-11-25  ...   False    False    False               False   \n",
       "1001          2015-01-20  ...   False    False    False                True   \n",
       "\n",
       "itemDescription           whisky  white bread  white wine  whole milk  yogurt  \\\n",
       "Member_number Date                                                              \n",
       "1000          2015-03-15   False        False       False        True    True   \n",
       "              2015-05-27   False        False       False       False   False   \n",
       "              2015-07-24   False        False       False       False   False   \n",
       "              2015-11-25   False        False       False       False   False   \n",
       "1001          2015-01-20   False        False       False       False   False   \n",
       "\n",
       "itemDescription           zwieback  \n",
       "Member_number Date                  \n",
       "1000          2015-03-15     False  \n",
       "              2015-05-27     False  \n",
       "              2015-07-24     False  \n",
       "              2015-11-25     False  \n",
       "1001          2015-01-20     False  \n",
       "\n",
       "[5 rows x 164 columns]"
      ]
     },
     "execution_count": 11,
     "metadata": {},
     "output_type": "execute_result"
    }
   ],
   "source": [
    "basket_bool = basket.applymap(to_boolean)\n",
    "basket_bool.head()"
   ]
  },
  {
   "cell_type": "code",
   "execution_count": 12,
   "id": "9bacbf42",
   "metadata": {
    "execution": {
     "iopub.execute_input": "2022-07-08T17:43:23.437864Z",
     "iopub.status.busy": "2022-07-08T17:43:23.437593Z",
     "iopub.status.idle": "2022-07-08T17:43:23.443147Z",
     "shell.execute_reply": "2022-07-08T17:43:23.442199Z"
    },
    "papermill": {
     "duration": 0.017711,
     "end_time": "2022-07-08T17:43:23.445135",
     "exception": false,
     "start_time": "2022-07-08T17:43:23.427424",
     "status": "completed"
    },
    "tags": []
   },
   "outputs": [
    {
     "data": {
      "text/plain": [
       "6982"
      ]
     },
     "execution_count": 12,
     "metadata": {},
     "output_type": "execute_result"
    }
   ],
   "source": [
    "len(basket_bool)"
   ]
  },
  {
   "cell_type": "markdown",
   "id": "112df4fa",
   "metadata": {
    "papermill": {
     "duration": 0.009453,
     "end_time": "2022-07-08T17:43:23.463839",
     "exception": false,
     "start_time": "2022-07-08T17:43:23.454386",
     "status": "completed"
    },
    "tags": []
   },
   "source": [
    "## Most Popular Items\n",
    "<a id=\"pop\" > </a>"
   ]
  },
  {
   "cell_type": "code",
   "execution_count": 13,
   "id": "89a9eee4",
   "metadata": {
    "execution": {
     "iopub.execute_input": "2022-07-08T17:43:23.485721Z",
     "iopub.status.busy": "2022-07-08T17:43:23.483728Z",
     "iopub.status.idle": "2022-07-08T17:43:23.872960Z",
     "shell.execute_reply": "2022-07-08T17:43:23.871990Z"
    },
    "papermill": {
     "duration": 0.401937,
     "end_time": "2022-07-08T17:43:23.875308",
     "exception": false,
     "start_time": "2022-07-08T17:43:23.473371",
     "status": "completed"
    },
    "tags": []
   },
   "outputs": [
    {
     "data": {
      "image/png": "[encoded data removed]",
      "text/plain": [
       "<Figure size 1440x720 with 1 Axes>"
      ]
     },
     "metadata": {
      "needs_background": "light"
     },
     "output_type": "display_data"
    }
   ],
   "source": [
    "##Lets consider the top 20 items purchased most frequently\n",
    "popular_items = basket.sum(axis=0).sort_values(ascending=False)[:20]\n",
    "#altering the figsize\n",
    "plt.figure(figsize=(20,10))\n",
    "sns.barplot(x=popular_items.index,y=popular_items.values)\n",
    "plt.xticks(rotation='vertical')\n",
    "plt.title(\"Top 20 Items\")\n",
    "plt.show()"
   ]
  },
  {
   "cell_type": "code",
   "execution_count": 14,
   "id": "4382d404",
   "metadata": {
    "execution": {
     "iopub.execute_input": "2022-07-08T17:43:23.898161Z",
     "iopub.status.busy": "2022-07-08T17:43:23.896397Z",
     "iopub.status.idle": "2022-07-08T17:43:24.112581Z",
     "shell.execute_reply": "2022-07-08T17:43:24.111611Z"
    },
    "papermill": {
     "duration": 0.229641,
     "end_time": "2022-07-08T17:43:24.114906",
     "exception": false,
     "start_time": "2022-07-08T17:43:23.885265",
     "status": "completed"
    },
    "tags": []
   },
   "outputs": [
    {
     "data": {
      "text/plain": [
       "(0.0, 100.0, 0.0, 100.0)"
      ]
     },
     "execution_count": 14,
     "metadata": {},
     "output_type": "execute_result"
    },
    {
     "data": {
      "image/png": "[encoded data removed]",
      "text/plain": [
       "<Figure size 720x720 with 1 Axes>"
      ]
     },
     "metadata": {
      "needs_background": "light"
     },
     "output_type": "display_data"
    }
   ],
   "source": [
    "# create a color palette, mapped to these values\n",
    "popular_items_freq =popular_items.values\n",
    "cmap = matplotlib.cm.Blues\n",
    "mini=min(popular_items_freq)\n",
    "maxi=max(popular_items_freq)\n",
    "norm = matplotlib.colors.Normalize(vmin=mini, vmax=maxi)\n",
    "colors = [cmap(norm(value)) for value in popular_items_freq]\n",
    "\n",
    "\n",
    "#treemap of top 20 frequent items\n",
    "plt.figure(figsize=(10,10))\n",
    "squarify.plot(sizes=popular_items.values, label=popular_items.index, alpha=.7,color=colors)\n",
    "plt.title(\"Tree map of top 20 items\")\n",
    "plt.axis('off')"
   ]
  },
  {
   "cell_type": "markdown",
   "id": "c7d479dd",
   "metadata": {
    "papermill": {
     "duration": 0.01083,
     "end_time": "2022-07-08T17:43:24.137383",
     "exception": false,
     "start_time": "2022-07-08T17:43:24.126553",
     "status": "completed"
    },
    "tags": []
   },
   "source": [
    "## Apriori Algorithm\n",
    "<a id=\"apri\" > </a>"
   ]
  },
  {
   "cell_type": "markdown",
   "id": "a328669e",
   "metadata": {
    "papermill": {
     "duration": 0.010465,
     "end_time": "2022-07-08T17:43:24.158494",
     "exception": false,
     "start_time": "2022-07-08T17:43:24.148029",
     "status": "completed"
    },
    "tags": []
   },
   "source": [
    "If SINGLE_ITEM_ONLY==True, then we will limit length to <=2 because we would like to see one-on-one association only, like {beer,milk}. If we have length >2 , then we may also see associations like: {(beer,apple),milk}. "
   ]
  },
  {
   "cell_type": "code",
   "execution_count": 15,
   "id": "40656f58",
   "metadata": {
    "execution": {
     "iopub.execute_input": "2022-07-08T17:43:24.182915Z",
     "iopub.status.busy": "2022-07-08T17:43:24.181073Z",
     "iopub.status.idle": "2022-07-08T17:43:24.237730Z",
     "shell.execute_reply": "2022-07-08T17:43:24.236550Z"
    },
    "papermill": {
     "duration": 0.070853,
     "end_time": "2022-07-08T17:43:24.240281",
     "exception": false,
     "start_time": "2022-07-08T17:43:24.169428",
     "status": "completed"
    },
    "tags": []
   },
   "outputs": [
    {
     "data": {
      "text/html": [
       "<div>\n",
       "<style scoped>\n",
       "    .dataframe tbody tr th:only-of-type {\n",
       "        vertical-align: middle;\n",
       "    }\n",
       "\n",
       "    .dataframe tbody tr th {\n",
       "        vertical-align: top;\n",
       "    }\n",
       "\n",
       "    .dataframe thead th {\n",
       "        text-align: right;\n",
       "    }\n",
       "</style>\n",
       "<table border=\"1\" class=\"dataframe\">\n",
       "  <thead>\n",
       "    <tr style=\"text-align: right;\">\n",
       "      <th></th>\n",
       "      <th>support</th>\n",
       "      <th>itemsets</th>\n",
       "    </tr>\n",
       "  </thead>\n",
       "  <tbody>\n",
       "    <tr>\n",
       "      <th>0</th>\n",
       "      <td>0.023059</td>\n",
       "      <td>(UHT-milk)</td>\n",
       "    </tr>\n",
       "    <tr>\n",
       "      <th>1</th>\n",
       "      <td>0.047551</td>\n",
       "      <td>(beef)</td>\n",
       "    </tr>\n",
       "    <tr>\n",
       "      <th>2</th>\n",
       "      <td>0.028359</td>\n",
       "      <td>(berries)</td>\n",
       "    </tr>\n",
       "    <tr>\n",
       "      <th>3</th>\n",
       "      <td>0.019908</td>\n",
       "      <td>(beverages)</td>\n",
       "    </tr>\n",
       "    <tr>\n",
       "      <th>4</th>\n",
       "      <td>0.052134</td>\n",
       "      <td>(bottled beer)</td>\n",
       "    </tr>\n",
       "  </tbody>\n",
       "</table>\n",
       "</div>"
      ],
      "text/plain": [
       "    support        itemsets\n",
       "0  0.023059      (UHT-milk)\n",
       "1  0.047551          (beef)\n",
       "2  0.028359       (berries)\n",
       "3  0.019908     (beverages)\n",
       "4  0.052134  (bottled beer)"
      ]
     },
     "execution_count": 15,
     "metadata": {},
     "output_type": "execute_result"
    }
   ],
   "source": [
    "frequent_items = apriori(basket_bool, min_support = 0.01, use_colnames = True)\n",
    "frequent_items.head()"
   ]
  },
  {
   "cell_type": "markdown",
   "id": "51343cde",
   "metadata": {
    "papermill": {
     "duration": 0.01036,
     "end_time": "2022-07-08T17:43:24.262423",
     "exception": false,
     "start_time": "2022-07-08T17:43:24.252063",
     "status": "completed"
    },
    "tags": []
   },
   "source": [
    "Creating Metrics of Support, Confidence, List for Antecedents and Consequent items"
   ]
  },
  {
   "cell_type": "code",
   "execution_count": 16,
   "id": "6b5be52c",
   "metadata": {
    "execution": {
     "iopub.execute_input": "2022-07-08T17:43:24.285845Z",
     "iopub.status.busy": "2022-07-08T17:43:24.285458Z",
     "iopub.status.idle": "2022-07-08T17:43:24.315581Z",
     "shell.execute_reply": "2022-07-08T17:43:24.314360Z"
    },
    "papermill": {
     "duration": 0.046409,
     "end_time": "2022-07-08T17:43:24.319382",
     "exception": false,
     "start_time": "2022-07-08T17:43:24.272973",
     "status": "completed"
    },
    "tags": []
   },
   "outputs": [
    {
     "data": {
      "text/html": [
       "<div>\n",
       "<style scoped>\n",
       "    .dataframe tbody tr th:only-of-type {\n",
       "        vertical-align: middle;\n",
       "    }\n",
       "\n",
       "    .dataframe tbody tr th {\n",
       "        vertical-align: top;\n",
       "    }\n",
       "\n",
       "    .dataframe thead th {\n",
       "        text-align: right;\n",
       "    }\n",
       "</style>\n",
       "<table border=\"1\" class=\"dataframe\">\n",
       "  <thead>\n",
       "    <tr style=\"text-align: right;\">\n",
       "      <th></th>\n",
       "      <th>antecedents</th>\n",
       "      <th>consequents</th>\n",
       "      <th>antecedent support</th>\n",
       "      <th>consequent support</th>\n",
       "      <th>support</th>\n",
       "      <th>confidence</th>\n",
       "      <th>lift</th>\n",
       "      <th>leverage</th>\n",
       "      <th>conviction</th>\n",
       "      <th>antecedents_items</th>\n",
       "      <th>consequents_items</th>\n",
       "      <th>antecedents_</th>\n",
       "      <th>consequents_</th>\n",
       "    </tr>\n",
       "  </thead>\n",
       "  <tbody>\n",
       "    <tr>\n",
       "      <th>0</th>\n",
       "      <td>(soda)</td>\n",
       "      <td>(sausage)</td>\n",
       "      <td>0.100401</td>\n",
       "      <td>0.103552</td>\n",
       "      <td>0.011601</td>\n",
       "      <td>0.115549</td>\n",
       "      <td>1.115857</td>\n",
       "      <td>0.001205</td>\n",
       "      <td>1.013565</td>\n",
       "      <td>1</td>\n",
       "      <td>1</td>\n",
       "      <td>soda</td>\n",
       "      <td>sausage</td>\n",
       "    </tr>\n",
       "    <tr>\n",
       "      <th>2</th>\n",
       "      <td>(yogurt)</td>\n",
       "      <td>(sausage)</td>\n",
       "      <td>0.095102</td>\n",
       "      <td>0.103552</td>\n",
       "      <td>0.010885</td>\n",
       "      <td>0.114458</td>\n",
       "      <td>1.105318</td>\n",
       "      <td>0.001037</td>\n",
       "      <td>1.012315</td>\n",
       "      <td>1</td>\n",
       "      <td>1</td>\n",
       "      <td>yogurt</td>\n",
       "      <td>sausage</td>\n",
       "    </tr>\n",
       "    <tr>\n",
       "      <th>1</th>\n",
       "      <td>(sausage)</td>\n",
       "      <td>(soda)</td>\n",
       "      <td>0.103552</td>\n",
       "      <td>0.100401</td>\n",
       "      <td>0.011601</td>\n",
       "      <td>0.112033</td>\n",
       "      <td>1.115857</td>\n",
       "      <td>0.001205</td>\n",
       "      <td>1.013100</td>\n",
       "      <td>1</td>\n",
       "      <td>1</td>\n",
       "      <td>sausage</td>\n",
       "      <td>soda</td>\n",
       "    </tr>\n",
       "    <tr>\n",
       "      <th>3</th>\n",
       "      <td>(sausage)</td>\n",
       "      <td>(yogurt)</td>\n",
       "      <td>0.103552</td>\n",
       "      <td>0.095102</td>\n",
       "      <td>0.010885</td>\n",
       "      <td>0.105118</td>\n",
       "      <td>1.105318</td>\n",
       "      <td>0.001037</td>\n",
       "      <td>1.011192</td>\n",
       "      <td>1</td>\n",
       "      <td>1</td>\n",
       "      <td>sausage</td>\n",
       "      <td>yogurt</td>\n",
       "    </tr>\n",
       "  </tbody>\n",
       "</table>\n",
       "</div>"
      ],
      "text/plain": [
       "  antecedents consequents  antecedent support  consequent support   support  \\\n",
       "0      (soda)   (sausage)            0.100401            0.103552  0.011601   \n",
       "2    (yogurt)   (sausage)            0.095102            0.103552  0.010885   \n",
       "1   (sausage)      (soda)            0.103552            0.100401  0.011601   \n",
       "3   (sausage)    (yogurt)            0.103552            0.095102  0.010885   \n",
       "\n",
       "   confidence      lift  leverage  conviction  antecedents_items  \\\n",
       "0    0.115549  1.115857  0.001205    1.013565                  1   \n",
       "2    0.114458  1.105318  0.001037    1.012315                  1   \n",
       "1    0.112033  1.115857  0.001205    1.013100                  1   \n",
       "3    0.105118  1.105318  0.001037    1.011192                  1   \n",
       "\n",
       "   consequents_items antecedents_ consequents_  \n",
       "0                  1         soda      sausage  \n",
       "2                  1       yogurt      sausage  \n",
       "1                  1      sausage         soda  \n",
       "3                  1      sausage       yogurt  "
      ]
     },
     "execution_count": 16,
     "metadata": {},
     "output_type": "execute_result"
    }
   ],
   "source": [
    "apriori_rules= apriori_df(dataframe_support= frequent_items, metric_name= \"lift\", threshold =1.01)\n",
    "apriori_rules.head()"
   ]
  },
  {
   "cell_type": "markdown",
   "id": "a92cde4c",
   "metadata": {
    "papermill": {
     "duration": 0.01254,
     "end_time": "2022-07-08T17:43:24.342879",
     "exception": false,
     "start_time": "2022-07-08T17:43:24.330339",
     "status": "completed"
    },
    "tags": []
   },
   "source": [
    "## Visualising Association Rules"
   ]
  },
  {
   "cell_type": "code",
   "execution_count": 17,
   "id": "9bcf612e",
   "metadata": {
    "execution": {
     "iopub.execute_input": "2022-07-08T17:43:24.374755Z",
     "iopub.status.busy": "2022-07-08T17:43:24.374363Z",
     "iopub.status.idle": "2022-07-08T17:43:24.603540Z",
     "shell.execute_reply": "2022-07-08T17:43:24.601986Z"
    },
    "papermill": {
     "duration": 0.244203,
     "end_time": "2022-07-08T17:43:24.606315",
     "exception": false,
     "start_time": "2022-07-08T17:43:24.362112",
     "status": "completed"
    },
    "tags": []
   },
   "outputs": [
    {
     "data": {
      "image/png": "[encoded data removed]",
      "text/plain": [
       "<Figure size 432x288 with 2 Axes>"
      ]
     },
     "metadata": {
      "needs_background": "light"
     },
     "output_type": "display_data"
    }
   ],
   "source": [
    "#apriori_rules[apriori_rules['antecedents_items']>= MIN_ITEMS_HEATMAP].sort_values('lift', ascending=False).head()\n",
    "pivot = apriori_rules[apriori_rules['antecedents_items']>= MIN_ITEMS_HEATMAP].pivot(index = 'antecedents_', columns = 'consequents_', values= 'lift')\n",
    "#sns.heatmap(pivot, annot = True)\n",
    "sns.heatmap(pivot)\n",
    "plt.yticks(rotation=0)\n",
    "plt.xticks(rotation=90)\n",
    "plt.title(\"Association Rules\")\n",
    "plt.show()"
   ]
  },
  {
   "cell_type": "markdown",
   "id": "a46ccd14",
   "metadata": {
    "papermill": {
     "duration": 0.010528,
     "end_time": "2022-07-08T17:43:24.628484",
     "exception": false,
     "start_time": "2022-07-08T17:43:24.617956",
     "status": "completed"
    },
    "tags": []
   },
   "source": [
    "## Product Recommendation\n",
    "<a id=\"rec\" > </a>"
   ]
  },
  {
   "cell_type": "code",
   "execution_count": 18,
   "id": "4c9b6c9e",
   "metadata": {
    "execution": {
     "iopub.execute_input": "2022-07-08T17:43:24.651758Z",
     "iopub.status.busy": "2022-07-08T17:43:24.651426Z",
     "iopub.status.idle": "2022-07-08T17:43:24.660602Z",
     "shell.execute_reply": "2022-07-08T17:43:24.659629Z"
    },
    "papermill": {
     "duration": 0.02325,
     "end_time": "2022-07-08T17:43:24.662806",
     "exception": false,
     "start_time": "2022-07-08T17:43:24.639556",
     "status": "completed"
    },
    "tags": []
   },
   "outputs": [
    {
     "data": {
      "text/plain": [
       "['sausage']"
      ]
     },
     "execution_count": 18,
     "metadata": {},
     "output_type": "execute_result"
    }
   ],
   "source": [
    "recommend_product(dataframe_apriori= apriori_rules, product=\"yogurt\", num_of_products=1)"
   ]
  },
  {
   "cell_type": "markdown",
   "id": "d46282ad",
   "metadata": {
    "papermill": {
     "duration": 0.011169,
     "end_time": "2022-07-08T17:43:24.685233",
     "exception": false,
     "start_time": "2022-07-08T17:43:24.674064",
     "status": "completed"
    },
    "tags": []
   },
   "source": [
    "**Future Ideas**<br>\n",
    "- ECLAT Algorithm\n",
    "- FP Tree Algorithm\n",
    "- PyARMViz module for Association Visualization"
   ]
  },
  {
   "cell_type": "markdown",
   "id": "04333c67",
   "metadata": {
    "papermill": {
     "duration": 0.010568,
     "end_time": "2022-07-08T17:43:24.706814",
     "exception": false,
     "start_time": "2022-07-08T17:43:24.696246",
     "status": "completed"
    },
    "tags": []
   },
   "source": [
    "**References:** <br>\n",
    "- https://www.kaggle.com/code/datatheque/association-rules-mining-market-basket-analysis\n",
    "- https://www.kaggle.com/code/annettecatherinepaul/apriori-algorithm-association-rule-mining\n",
    "- https://www.kaggle.com/code/sajidcse/market-basket-analysis\n",
    "- https://www.kaggle.com/code/ozlemilgun/market-basket-analysis-with-apriori-algorithm\n",
    "\n"
   ]
  }
 ],
 "metadata": {
  "kernelspec": {
   "display_name": "Python 3",
   "language": "python",
   "name": "python3"
  },
  "language_info": {
   "codemirror_mode": {
    "name": "ipython",
    "version": 3
   },
   "file_extension": ".py",
   "mimetype": "text/x-python",
   "name": "python",
   "nbconvert_exporter": "python",
   "pygments_lexer": "ipython3",
   "version": "3.7.12"
  },
  "papermill": {
   "default_parameters": {},
   "duration": 13.233907,
   "end_time": "2022-07-08T17:43:25.339010",
   "environment_variables": {},
   "exception": null,
   "input_path": "__notebook__.ipynb",
   "output_path": "__notebook__.ipynb",
   "parameters": {},
   "start_time": "2022-07-08T17:43:12.105103",
   "version": "2.3.4"
  }
 },
 "nbformat": 4,
 "nbformat_minor": 5
}
